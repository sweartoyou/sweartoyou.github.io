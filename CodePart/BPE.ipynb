{
 "cells": [
  {
   "cell_type": "code",
   "execution_count": 2,
   "metadata": {},
   "outputs": [],
   "source": [
    "from collections import Counter, defaultdict"
   ]
  },
  {
   "cell_type": "code",
   "execution_count": 13,
   "metadata": {},
   "outputs": [],
   "source": [
    "def get_vocab(corpus):\n",
    "    vocab = Counter()\n",
    "    for word, freq in corpus.items():\n",
    "        tokens = tuple(word) + (\"_\",)\n",
    "        vocab[tokens] += freq\n",
    "    return vocab"
   ]
  },
  {
   "cell_type": "code",
   "execution_count": 21,
   "metadata": {},
   "outputs": [],
   "source": [
    "def merge_vocab(pair, vocab):\n",
    "    merge_vocab = {}\n",
    "    for word in vocab:\n",
    "        new_word = []\n",
    "        i = 0\n",
    "        while i < len(word):\n",
    "            if i < len(word) - 1 and word[i] == pair[0] and word[i + 1] == pair[1]:\n",
    "                new_word.append(word[i] + word[i + 1])\n",
    "                i += 2\n",
    "            else:\n",
    "                new_word.append(word[i])\n",
    "                i += 1\n",
    "        merge_vocab[tuple(new_word)] = vocab[word]\n",
    "    print(merge_vocab)\n",
    "    return merge_vocab"
   ]
  },
  {
   "cell_type": "code",
   "execution_count": 15,
   "metadata": {},
   "outputs": [],
   "source": [
    "def get_status(vocab):\n",
    "    pairs = defaultdict(int)\n",
    "    for word, freq in vocab.items():\n",
    "        symbles = list(word)\n",
    "        for i in range(len(symbles) - 1):\n",
    "            pairs[symbles[i], symbles[i + 1]] += freq\n",
    "\n",
    "    return pairs"
   ]
  },
  {
   "cell_type": "code",
   "execution_count": 22,
   "metadata": {},
   "outputs": [],
   "source": [
    "def bpe(corpus, num_merges):\n",
    "    vocab = get_vocab(corpus)\n",
    "    for i in range(num_merges):\n",
    "        pairs = get_status(vocab)\n",
    "        if not pairs:\n",
    "            break\n",
    "        best = max(pairs, key=pairs.get)\n",
    "        # print(best)\n",
    "        vocab = merge_vocab(best, vocab)\n",
    "    return vocab"
   ]
  },
  {
   "cell_type": "code",
   "execution_count": 23,
   "metadata": {},
   "outputs": [
    {
     "data": {
      "text/plain": [
       "Counter({('l', 'o', 'w', '_'): 5,\n",
       "         ('l', 'o', 'w', 'e', 's', 't', '_'): 2,\n",
       "         ('n', 'e', 'w', 'e', 'r', '_'): 6,\n",
       "         ('w', 'i', 'l', 'd', 'e', 'r', '_'): 3,\n",
       "         ('n', 'e', 'w', '_'): 2})"
      ]
     },
     "execution_count": 23,
     "metadata": {},
     "output_type": "execute_result"
    }
   ],
   "source": [
    "vocab = get_vocab(corpus)\n",
    "vocab"
   ]
  },
  {
   "cell_type": "code",
   "execution_count": 24,
   "metadata": {},
   "outputs": [
    {
     "name": "stdout",
     "output_type": "stream",
     "text": [
      "{('l', 'o', 'w', '_'): 5, ('l', 'o', 'w', 'e', 's', 't', '_'): 2, ('n', 'e', 'w', 'er', '_'): 6, ('w', 'i', 'l', 'd', 'er', '_'): 3, ('n', 'e', 'w', '_'): 2}\n",
      "{('l', 'o', 'w', '_'): 5, ('l', 'o', 'w', 'e', 's', 't', '_'): 2, ('n', 'e', 'w', 'er_'): 6, ('w', 'i', 'l', 'd', 'er_'): 3, ('n', 'e', 'w', '_'): 2}\n",
      "{('l', 'o', 'w', '_'): 5, ('l', 'o', 'w', 'e', 's', 't', '_'): 2, ('ne', 'w', 'er_'): 6, ('w', 'i', 'l', 'd', 'er_'): 3, ('ne', 'w', '_'): 2}\n",
      "{('l', 'o', 'w', '_'): 5, ('l', 'o', 'w', 'e', 's', 't', '_'): 2, ('new', 'er_'): 6, ('w', 'i', 'l', 'd', 'er_'): 3, ('new', '_'): 2}\n",
      "{('lo', 'w', '_'): 5, ('lo', 'w', 'e', 's', 't', '_'): 2, ('new', 'er_'): 6, ('w', 'i', 'l', 'd', 'er_'): 3, ('new', '_'): 2}\n",
      "{('low', '_'): 5, ('low', 'e', 's', 't', '_'): 2, ('new', 'er_'): 6, ('w', 'i', 'l', 'd', 'er_'): 3, ('new', '_'): 2}\n",
      "{('low', '_'): 5, ('low', 'e', 's', 't', '_'): 2, ('newer_',): 6, ('w', 'i', 'l', 'd', 'er_'): 3, ('new', '_'): 2}\n",
      "{('low_',): 5, ('low', 'e', 's', 't', '_'): 2, ('newer_',): 6, ('w', 'i', 'l', 'd', 'er_'): 3, ('new', '_'): 2}\n",
      "{('low_',): 5, ('low', 'e', 's', 't', '_'): 2, ('newer_',): 6, ('wi', 'l', 'd', 'er_'): 3, ('new', '_'): 2}\n",
      "{('low_',): 5, ('low', 'e', 's', 't', '_'): 2, ('newer_',): 6, ('wil', 'd', 'er_'): 3, ('new', '_'): 2}\n",
      "{('low_',): 5, ('low', 'e', 's', 't', '_'): 2, ('newer_',): 6, ('wild', 'er_'): 3, ('new', '_'): 2}\n",
      "{('low_',): 5, ('low', 'e', 's', 't', '_'): 2, ('newer_',): 6, ('wilder_',): 3, ('new', '_'): 2}\n",
      "{('low_',): 5, ('lowe', 's', 't', '_'): 2, ('newer_',): 6, ('wilder_',): 3, ('new', '_'): 2}\n",
      "{('low_',): 5, ('lowes', 't', '_'): 2, ('newer_',): 6, ('wilder_',): 3, ('new', '_'): 2}\n",
      "{('low_',): 5, ('lowest', '_'): 2, ('newer_',): 6, ('wilder_',): 3, ('new', '_'): 2}\n"
     ]
    }
   ],
   "source": [
    "corpus = {\n",
    "    \"low\": 5,\n",
    "    \"lowest\": 2,\n",
    "    \"newer\": 6,\n",
    "    \"wilder\": 3,\n",
    "    \"new\": 2\n",
    "}\n",
    "num_merges = 15\n",
    "vocab = bpe(corpus, num_merges)"
   ]
  },
  {
   "cell_type": "code",
   "execution_count": 20,
   "metadata": {},
   "outputs": [
    {
     "name": "stdout",
     "output_type": "stream",
     "text": [
      "Word: low_, Frequency: 5\n",
      "Word: lowest _, Frequency: 2\n",
      "Word: newer_, Frequency: 6\n",
      "Word: wilder_, Frequency: 3\n",
      "Word: new _, Frequency: 2\n"
     ]
    }
   ],
   "source": [
    "for word, freq in vocab.items():\n",
    "    print(f'Word: {\" \".join(word)}, Frequency: {freq}')"
   ]
  },
  {
   "cell_type": "code",
   "execution_count": null,
   "metadata": {},
   "outputs": [],
   "source": []
  }
 ],
 "metadata": {
  "kernelspec": {
   "display_name": "Python 3",
   "language": "python",
   "name": "python3"
  },
  "language_info": {
   "codemirror_mode": {
    "name": "ipython",
    "version": 3
   },
   "file_extension": ".py",
   "mimetype": "text/x-python",
   "name": "python",
   "nbconvert_exporter": "python",
   "pygments_lexer": "ipython3",
   "version": "3.8.18"
  }
 },
 "nbformat": 4,
 "nbformat_minor": 2
}
